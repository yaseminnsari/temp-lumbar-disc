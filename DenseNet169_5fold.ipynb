{
  "nbformat": 4,
  "nbformat_minor": 0,
  "metadata": {
    "colab": {
      "provenance": []
    },
    "kernelspec": {
      "name": "python3",
      "display_name": "Python 3"
    },
    "language_info": {
      "name": "python"
    }
  },
  "cells": [
    {
      "cell_type": "code",
      "execution_count": null,
      "metadata": {
        "id": "9bl7KKAKnjEI"
      },
      "outputs": [],
      "source": [
        "from google.colab import drive\n",
        "drive.mount(\"/content/gdrive\")"
      ]
    },
    {
      "cell_type": "code",
      "source": [
        "gpu_info = !nvidia-smi\n",
        "gpu_info = '\\n'.join(gpu_info)\n",
        "if gpu_info.find('failed') >= 0:\n",
        "  print('Not connected to a GPU')\n",
        "else:\n",
        "  print(gpu_info)"
      ],
      "metadata": {
        "id": "7GbI4AK9nn7K"
      },
      "execution_count": null,
      "outputs": []
    },
    {
      "cell_type": "code",
      "source": [
        "!unrar x /content/gdrive/MyDrive/denemekaps3.rar"
      ],
      "metadata": {
        "id": "dWkPUSUxnnzX"
      },
      "execution_count": null,
      "outputs": []
    },
    {
      "cell_type": "code",
      "source": [
        "from google.colab import files\n",
        "files.upload()"
      ],
      "metadata": {
        "id": "59XkKx3mnnwk"
      },
      "execution_count": null,
      "outputs": []
    },
    {
      "cell_type": "code",
      "source": [
        "def load_data():\n",
        "    yol = '/content/denemekaps/'\n",
        "    path = yol\n",
        "    data = []\n",
        "    label = []\n",
        "    Files = ['herniyok', 'resim2']\n",
        "    label_val = 0\n",
        "\n",
        "    for files in Files:\n",
        "        cpath = os.path.join(path, files)\n",
        "        cpath = os.path.join(cpath)\n",
        "\n",
        "        for img in sorted(os.listdir(cpath)):\n",
        "\n",
        "          image_array = cv2.imread(os.path.join(cpath, img), cv2.IMREAD_COLOR)\n",
        "          image_array=cv2.resize(image_array,(320,320))\n",
        "          image_array=np.uint8(image_array)\n",
        "          data.append(image_array)\n",
        "          label.append(label_val)\n",
        "        label_val = 1\n",
        "\n",
        "    data=np.asarray(data)\n",
        "    label =np.asarray(label,dtype=np.uint8)\n",
        "\n",
        "    data = data.reshape(-1, 320, 320,3 ).astype('float32') / 255.\n",
        "    label = to_categorical(label.astype('float32'))\n",
        "\n",
        "    return data, label"
      ],
      "metadata": {
        "id": "5abKGaMmnntu"
      },
      "execution_count": null,
      "outputs": []
    },
    {
      "cell_type": "code",
      "source": [
        "import numpy as np\n",
        "from sklearn.model_selection import KFold\n",
        "from sklearn.metrics import accuracy_score, precision_score, recall_score, f1_score\n",
        "from tensorflow.keras.applications import DenseNet169\n",
        "from tensorflow.keras.models import Model\n",
        "from tensorflow.keras.layers import GlobalAveragePooling2D, Dense\n",
        "from tensorflow.keras.callbacks import ModelCheckpoint, ReduceLROnPlateau\n",
        "from tensorflow.keras.optimizers import Adam\n",
        "\n",
        "data, label = load_data()\n",
        "\n",
        "# Parametreler\n",
        "weight_path_template = \"{}_densenet_fold_{}.weights.h5\"\n",
        "epochs = 50\n",
        "batch_size = 4\n",
        "num_classes = len(np.unique(label))\n",
        "\n",
        "kf = KFold(n_splits=5, shuffle=True, random_state=42)\n",
        "\n",
        "# Sonuçları saklamak için\n",
        "fold_train_accuracies = []\n",
        "fold_val_accuracies = []\n",
        "accuracies = []\n",
        "precisions = []\n",
        "recalls = []\n",
        "f1_scores = []\n",
        "\n",
        "for fold, (train_idx, val_idx) in enumerate(kf.split(data)):\n",
        "    print(f\"\\n--- Fold {fold + 1} ---\")\n",
        "\n",
        "    X_train, X_val = data[train_idx], data[val_idx]\n",
        "    y_train, y_val = label[train_idx], label[val_idx]\n",
        "\n",
        "    input_shape = (320, 320, 3)\n",
        "    input_layer = Input(shape=input_shape)\n",
        "    base_model = DenseNet169(include_top=False, input_shape=input_shape, weights='imagenet')\n",
        "    x = base_model(input_layer)\n",
        "    x = Flatten()(x)\n",
        "    x = Dense(1024, activation='relu')(x)\n",
        "    output_layer = Dense(2, activation='softmax')(x)\n",
        "    model = Model(inputs=input_layer, outputs=output_layer)\n",
        "\n",
        "\n",
        "    model.compile(optimizer='adam',\n",
        "                  loss='binary_crossentropy',\n",
        "                  metrics=['accuracy'])\n",
        "\n",
        "    weight_path = weight_path_template.format(\"BEST\", fold + 1)\n",
        "    checkpoint = ModelCheckpoint(weight_path, monitor='loss', verbose=1,\n",
        "                                 save_best_only=True, mode='min', save_weights_only=True)\n",
        "    reduce_lr = ReduceLROnPlateau(monitor='val_loss', factor=0.5, patience=4,\n",
        "                                  verbose=1, mode='min', min_lr=0.0001)\n",
        "    callbacks_list = [checkpoint]\n",
        "\n",
        "    history = model.fit(\n",
        "        X_train.astype(np.float32), y_train.astype(np.float32),\n",
        "        batch_size=batch_size,\n",
        "        shuffle=True,\n",
        "        epochs=epochs,\n",
        "        callbacks=callbacks_list\n",
        "    )\n",
        "\n",
        "    train_accuracy = max(history.history['accuracy'])\n",
        "    fold_train_accuracies.append(train_accuracy)\n",
        "\n",
        "    print(f\"Fold {fold + 1} Train Accuracy: {train_accuracy:.4f}\")\n",
        "\n",
        "    y_val_pred = np.argmax(model.predict(X_val), axis=1)\n",
        "    y_val_int = np.argmax(y_val, axis=1)\n",
        "\n",
        "\n",
        "    accuracy = accuracy_score(y_val_int, y_val_pred)\n",
        "    precision = precision_score(y_val_int, y_val_pred, average='weighted')\n",
        "    recall = recall_score(y_val_int, y_val_pred, average='weighted')\n",
        "    f1 = f1_score(y_val_int, y_val_pred, average='weighted')\n",
        "\n",
        "    accuracies.append(accuracy)\n",
        "    precisions.append(precision)\n",
        "    recalls.append(recall)\n",
        "    f1_scores.append(f1)\n",
        "\n",
        "    print(f\"Fold {fold + 1} Metrics:\")\n",
        "    print(f\"  Accuracy: {accuracy:.4f}\")\n",
        "    print(f\"  Precision: {precision:.4f}\")\n",
        "    print(f\"  Recall: {recall:.4f}\")\n",
        "    print(f\"  F1 Score: {f1:.4f}\")\n",
        "\n",
        "print(\"\\n--- Cross-Validation Results ---\")\n",
        "print(f\"Average Train Accuracy: {np.mean(fold_train_accuracies):.4f}\")\n",
        "print(f\"Average Validation Accuracy: {np.mean(fold_val_accuracies):.4f}\")\n",
        "print(f\"Average Accuracy: {np.mean(accuracies):.4f}\")\n",
        "print(f\"Average Precision: {np.mean(precisions):.4f}\")\n",
        "print(f\"Average Recall: {np.mean(recalls):.4f}\")\n",
        "print(f\"Average F1 Score: {np.mean(f1_scores):.4f}\")\n"
      ],
      "metadata": {
        "id": "6RDxcnVPoRvs"
      },
      "execution_count": null,
      "outputs": []
    }
  ]
}